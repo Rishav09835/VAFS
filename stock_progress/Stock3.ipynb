{
 "cells": [
  {
   "cell_type": "code",
   "execution_count": 52,
   "id": "a5c072b3-ed75-41a7-8ce1-169b9ef4d0b9",
   "metadata": {},
   "outputs": [],
   "source": [
    "import pandas as pd\n",
    "import numpy as np\n",
    "from sklearn.preprocessing import MinMaxScaler\n",
    "from tensorflow.keras.models import Sequential, Model\n",
    "from tensorflow.keras.layers import LSTM, Dense, Dropout, Input\n",
    "from tensorflow.keras.callbacks import EarlyStopping\n",
    "from sklearn.metrics import mean_absolute_error, mean_squared_error\n",
    "import matplotlib.pyplot as plt"
   ]
  },
  {
   "cell_type": "code",
   "execution_count": 53,
   "id": "7bbfd0e4-abd6-41df-96ac-5179fecf65f7",
   "metadata": {},
   "outputs": [],
   "source": [
    "df = pd.read_csv(r'C:\\Users\\HP\\Desktop\\VAFSUD\\merged_nifty50_data.csv')\n",
    "df['Date'] = pd.to_datetime(df['Date'])\n",
    "df.sort_values('Date', inplace=True)"
   ]
  },
  {
   "cell_type": "code",
   "execution_count": 54,
   "id": "31680448-1dcd-4a01-8c24-4755cd60e1c3",
   "metadata": {},
   "outputs": [],
   "source": [
    "selected_stocks = ['TCS', 'INFY', 'HCLTECH', 'WIPRO', 'TECHM', 'LT', \n",
    "                   'BHARTIARTL', 'ICICIBANK', 'HDFCBANK', 'AXISBANK', \n",
    "                   'KOTAKBANK', 'SBIN', 'INDUSINDBK', 'YESBANK', 'TATAMOTORS']"
   ]
  },
  {
   "cell_type": "code",
   "execution_count": 55,
   "id": "07a9accf-780a-4fc6-ba57-fb76e14fda50",
   "metadata": {},
   "outputs": [],
   "source": [
    "df = df[df['Symbol'].isin(selected_stocks)]"
   ]
  },
  {
   "cell_type": "code",
   "execution_count": 56,
   "id": "59779fe3-fe09-4029-bc9d-b356fb03f449",
   "metadata": {},
   "outputs": [],
   "source": [
    "df['MA_10'] = df['Close'].rolling(window=10).mean()\n",
    "df['MA_50'] = df['Close'].rolling(window=50).mean()\n",
    "df['EMA_10'] = df['Close'].ewm(span=10, adjust=False).mean()"
   ]
  },
  {
   "cell_type": "code",
   "execution_count": 57,
   "id": "23acd210-cce5-440e-ac9f-efad4b084551",
   "metadata": {},
   "outputs": [],
   "source": [
    "delta = df['Close'].diff()\n",
    "gain = (delta.where(delta > 0, 0)).rolling(window=14).mean()\n",
    "loss = (-delta.where(delta < 0, 0)).rolling(window=14).mean()\n",
    "rs = gain / loss\n",
    "df['RSI'] = 100 - (100 / (1 + rs))"
   ]
  },
  {
   "cell_type": "code",
   "execution_count": 58,
   "id": "e15e3723-3fd3-4b14-ad2d-cd26c7183e2c",
   "metadata": {},
   "outputs": [],
   "source": [
    "df.bfill(inplace=True)"
   ]
  },
  {
   "cell_type": "code",
   "execution_count": 59,
   "id": "3113f70d-5490-4228-8e96-6e441793d3c2",
   "metadata": {},
   "outputs": [],
   "source": [
    "features = ['Close', 'MA_10', 'MA_50', 'EMA_10', 'RSI']\n",
    "data = df[features].values"
   ]
  },
  {
   "cell_type": "code",
   "execution_count": 60,
   "id": "17084fbc-9bf0-4d69-b8a2-294e68f405db",
   "metadata": {},
   "outputs": [],
   "source": [
    "scaler = MinMaxScaler(feature_range=(0, 1))\n",
    "scaled_data = scaler.fit_transform(data)\n"
   ]
  },
  {
   "cell_type": "code",
   "execution_count": 61,
   "id": "2627529c-8642-4aa1-8093-800be705c327",
   "metadata": {},
   "outputs": [],
   "source": [
    "def create_sequences(data, seq_length):\n",
    "    x, y = [], []\n",
    "    for i in range(len(data) - seq_length):\n",
    "        x.append(data[i:i + seq_length])\n",
    "        y.append(data[i + seq_length, 0])\n",
    "    return np.array(x), np.array(y)"
   ]
  },
  {
   "cell_type": "code",
   "execution_count": 42,
   "id": "31a9d11e-0229-4bfe-9886-26b1ff568af6",
   "metadata": {},
   "outputs": [],
   "source": [
    "seq_length = 60\n",
    "x, y = create_sequences(scaled_data, seq_length)"
   ]
  },
  {
   "cell_type": "code",
   "execution_count": 43,
   "id": "3ec52506-4e4a-40b5-8901-322f16c9dccb",
   "metadata": {},
   "outputs": [],
   "source": [
    "train_size = int(len(x) * 0.8)\n",
    "x_train, x_test = x[:train_size], x[train_size:]\n",
    "y_train, y_test = y[:train_size], y[train_size:]\n",
    "x_train = np.reshape(x_train, (x_train.shape[0], x_train.shape[1], 5))\n",
    "x_test = np.reshape(x_test, (x_test.shape[0], x_test.shape[1], 5))"
   ]
  },
  {
   "cell_type": "code",
   "execution_count": 44,
   "id": "724384a0-828d-46b2-9ccf-f22a2b97754d",
   "metadata": {},
   "outputs": [],
   "source": [
    "inputs = Input(shape=(x_train.shape[1], 5))"
   ]
  },
  {
   "cell_type": "code",
   "execution_count": 45,
   "id": "f83b836b-84e2-45df-ab0f-11af43cc4ce1",
   "metadata": {},
   "outputs": [],
   "source": [
    "x = LSTM(50, return_sequences=True)(inputs)\n",
    "x = Dropout(0.2)(x)\n",
    "x = LSTM(50, return_sequences=False)(x)\n",
    "x = Dropout(0.2)(x)\n",
    "x = Dense(25)(x)\n",
    "outputs = Dense(1)(x)"
   ]
  },
  {
   "cell_type": "code",
   "execution_count": 46,
   "id": "eba1ba73-7a69-4e6a-98b1-ee283eb46d29",
   "metadata": {},
   "outputs": [],
   "source": [
    "# Create model\n",
    "model = Model(inputs=inputs, outputs=outputs)"
   ]
  },
  {
   "cell_type": "code",
   "execution_count": 47,
   "id": "a560467c-e191-4675-bc0f-6df4a7b9dc42",
   "metadata": {},
   "outputs": [],
   "source": [
    "model.compile(optimizer='adam', loss='mean_squared_error')"
   ]
  },
  {
   "cell_type": "code",
   "execution_count": null,
   "id": "18f99317-88ed-4d82-abc2-6ac6c8111a69",
   "metadata": {},
   "outputs": [
    {
     "name": "stdout",
     "output_type": "stream",
     "text": [
      "Epoch 1/20\n",
      "\u001b[1m2706/3088\u001b[0m \u001b[32m━━━━━━━━━━━━━━━━━\u001b[0m\u001b[37m━━━\u001b[0m \u001b[1m14s\u001b[0m 38ms/step - loss: 0.0049 "
     ]
    }
   ],
   "source": [
    "early_stopping = EarlyStopping(monitor='val_loss', patience=5, restore_best_weights=True)\n",
    "model.fit(x_train, y_train, epochs=20, batch_size=32, validation_data=(x_test, y_test), callbacks=[early_stopping])"
   ]
  },
  {
   "cell_type": "code",
   "execution_count": null,
   "id": "b3bd1233-53b4-40ee-9cd4-100f0554bd34",
   "metadata": {},
   "outputs": [],
   "source": [
    "model.save('model.keras')"
   ]
  },
  {
   "cell_type": "code",
   "execution_count": null,
   "id": "18cbd9b2-9175-417a-bf8e-51103b77e8fb",
   "metadata": {},
   "outputs": [],
   "source": [
    "predictions = model.predict(x_test)"
   ]
  },
  {
   "cell_type": "code",
   "execution_count": null,
   "id": "d7193fc4-2524-4454-b110-d1e55f1b01f4",
   "metadata": {},
   "outputs": [],
   "source": [
    "mae = mean_absolute_error(y_test, predictions)\n",
    "mse = mean_squared_error(y_test, predictions)\n",
    "print(f'MAE: {mae:.2f}')\n",
    "print(f'MSE: {mse:.2f}')"
   ]
  },
  {
   "cell_type": "code",
   "execution_count": null,
   "id": "9b025c57-bbcc-48fd-9f48-34c3332f3e36",
   "metadata": {},
   "outputs": [],
   "source": []
  }
 ],
 "metadata": {
  "kernelspec": {
   "display_name": "Python 3 (ipykernel)",
   "language": "python",
   "name": "python3"
  },
  "language_info": {
   "codemirror_mode": {
    "name": "ipython",
    "version": 3
   },
   "file_extension": ".py",
   "mimetype": "text/x-python",
   "name": "python",
   "nbconvert_exporter": "python",
   "pygments_lexer": "ipython3",
   "version": "3.12.7"
  }
 },
 "nbformat": 4,
 "nbformat_minor": 5
}
