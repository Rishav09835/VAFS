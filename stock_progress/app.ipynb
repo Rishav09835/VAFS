{
 "cells": [
  {
   "cell_type": "code",
   "execution_count": 92,
   "id": "32bf87b6-1fee-4ee7-b20e-cdd8e40714f0",
   "metadata": {},
   "outputs": [],
   "source": [
    "import dash\n",
    "import dash_core_components as dcc\n",
    "import dash_html_components as html\n",
    "from dash.dependencies import Input, Output\n",
    "import plotly.graph_objs as go\n",
    "import pandas as pd\n",
    "import numpy as np\n",
    "from sklearn.preprocessing import MinMaxScaler\n",
    "from tensorflow.keras.models import load_model"
   ]
  },
  {
   "cell_type": "code",
   "execution_count": 93,
   "id": "60e90760-12da-4c49-9ffd-3d1103135d92",
   "metadata": {},
   "outputs": [],
   "source": [
    "df = pd.read_csv('merged_nifty50_data.csv')\n",
    "df['Date'] = pd.to_datetime(df['Date'])\n",
    "df.sort_values('Date', inplace=True)"
   ]
  },
  {
   "cell_type": "code",
   "execution_count": 94,
   "id": "3e04d496-7db8-4f63-9d80-dfd6cc9f28b7",
   "metadata": {},
   "outputs": [],
   "source": [
    "selected_stocks = ['TCS', 'INFY', 'HCLTECH', 'WIPRO', 'TECHM', 'LT', \n",
    "                   'BHARTIARTL', 'ICICIBANK', 'HDFCBANK', 'AXISBANK', \n",
    "                   'KOTAKBANK', 'SBIN', 'INDUSINDBK', 'YESBANK', 'TATAMOTORS']\n"
   ]
  },
  {
   "cell_type": "code",
   "execution_count": 95,
   "id": "4b840194-3edc-4d87-b509-41be94109b85",
   "metadata": {},
   "outputs": [],
   "source": [
    "df = df[df['Symbol'].isin(selected_stocks)]"
   ]
  },
  {
   "cell_type": "code",
   "execution_count": 96,
   "id": "664f1ad6-1b3e-44b9-806f-7158b9003548",
   "metadata": {},
   "outputs": [],
   "source": [
    "model = load_model('model.keras')"
   ]
  },
  {
   "cell_type": "code",
   "execution_count": 97,
   "id": "9b01eef7-cd5e-4393-a5ed-d6be6ed497ff",
   "metadata": {},
   "outputs": [],
   "source": [
    "app = dash.Dash(__name__)"
   ]
  },
  {
   "cell_type": "code",
   "execution_count": 98,
   "id": "80244dcf-c814-4b3c-9a9a-eb50d72f6e2e",
   "metadata": {},
   "outputs": [],
   "source": [
    "app.layout = html.Div([\n",
    "    html.H1('Stock Price Prediction'),\n",
    "    dcc.Dropdown(\n",
    "        id='stock-dropdown',\n",
    "        options=[{'label': stock, 'value': stock} for stock in selected_stocks],\n",
    "        value='TCS'\n",
    "    ),\n",
    "    dcc.Graph(id='actual-graph'),\n",
    "    dcc.Graph(id='predicted-graph')\n",
    "])"
   ]
  },
  {
   "cell_type": "code",
   "execution_count": 99,
   "id": "53e9f713-5ecd-4a0c-a35a-778dc7795221",
   "metadata": {},
   "outputs": [],
   "source": [
    "@app.callback(\n",
    "    Output('actual-graph', 'figure'),\n",
    "    [Input('stock-dropdown', 'value')]\n",
    ")\n",
    "def update_actual_graph(selected_stock):\n",
    "    stock_data = df.loc[df['Symbol'] == selected_stock].copy()\n",
    "    fig = go.Figure(data=[go.Scatter(x=stock_data['Date'], y=stock_data['Close'], name='Actual', line=dict(color='blue'))])\n",
    "    return fig\n",
    "\n",
    "@app.callback(\n",
    "    Output('predicted-graph', 'figure'),\n",
    "    [Input('stock-dropdown', 'value')]\n",
    ")\n",
    "def update_predicted_graph(selected_stock):\n",
    "    stock_data = df.loc[df['Symbol'] == selected_stock].copy()\n",
    "    stock_data.loc[:, 'MA_10'] = stock_data['Close'].rolling(window=10).mean()\n",
    "    stock_data.loc[:, 'MA_50'] = stock_data['Close'].rolling(window=50).mean()\n",
    "    stock_data.loc[:, 'EMA_10'] = stock_data['Close'].ewm(span=10, adjust=False).mean()\n",
    "    delta = stock_data['Close'].diff()\n",
    "    gain = (delta.where(delta > 0, 0)).rolling(window=14).mean()\n",
    "    loss = (-delta.where(delta < 0, 0)).rolling(window=14).mean()\n",
    "    rs = gain / loss\n",
    "    stock_data.loc[:, 'RSI'] = 100 - (100 / (1 + rs))\n",
    "    stock_data.dropna(inplace=True)  # Ensure no NaN values are present\n",
    "    features = ['Close', 'MA_10', 'MA_50', 'EMA_10', 'RSI']\n",
    "    data = stock_data[features].values\n",
    "    scaler = MinMaxScaler(feature_range=(0, 1))\n",
    "    scaled_data = scaler.fit_transform(data)\n",
    "    seq_length = 60\n",
    "    x, _ = create_sequences(scaled_data, seq_length)\n",
    "    x = np.reshape(x, (x.shape[0], x.shape[1], 5))  # Ensure the shape matches the training shape\n",
    "    predictions = model.predict(x)\n",
    "    predictions = scaler.inverse_transform(np.concatenate((predictions, np.zeros((predictions.shape[0], 4))), axis=1))[:, 0]  # Inverse transform only the 'Close' predictions\n",
    "    fig = go.Figure(data=[\n",
    "        go.Scatter(x=stock_data['Date'][-len(predictions):], y=predictions, name='Predicted', line=dict(color='red')),\n",
    "        go.Scatter(x=stock_data['Date'], y=stock_data['Close'], name='Actual', line=dict(color='blue'))\n",
    "    ])\n",
    "    return fig\n",
    "\n",
    "def create_sequences(data, seq_length):\n",
    "    x, y = [], []\n",
    "    for i in range(len(data) - seq_length):\n",
    "        x.append(data[i:i + seq_length])\n",
    "        y.append(data[i + seq_length, 0])  # only take the Close value\n",
    "    return np.array(x), np.array(y)"
   ]
  },
  {
   "cell_type": "code",
   "execution_count": 100,
   "id": "39c43fbd-b8d1-45ef-a7c6-3692c0d2f8fd",
   "metadata": {},
   "outputs": [
    {
     "data": {
      "text/html": [
       "\n",
       "        <iframe\n",
       "            width=\"100%\"\n",
       "            height=\"650\"\n",
       "            src=\"http://127.0.0.1:8050/\"\n",
       "            frameborder=\"0\"\n",
       "            allowfullscreen\n",
       "            \n",
       "        ></iframe>\n",
       "        "
      ],
      "text/plain": [
       "<IPython.lib.display.IFrame at 0x21d8c311430>"
      ]
     },
     "metadata": {},
     "output_type": "display_data"
    },
    {
     "name": "stdout",
     "output_type": "stream",
     "text": [
      "\u001b[1m256/256\u001b[0m \u001b[32m━━━━━━━━━━━━━━━━━━━━\u001b[0m\u001b[37m\u001b[0m \u001b[1m6s\u001b[0m 21ms/step \n",
      "\u001b[1m298/298\u001b[0m \u001b[32m━━━━━━━━━━━━━━━━━━━━\u001b[0m\u001b[37m\u001b[0m \u001b[1m4s\u001b[0m 14ms/step\n"
     ]
    }
   ],
   "source": [
    "if __name__ == '__main__':\n",
    "    app.run_server()"
   ]
  },
  {
   "cell_type": "code",
   "execution_count": null,
   "id": "b7c64cc9-f1cf-4a01-b65f-921ba718b465",
   "metadata": {},
   "outputs": [],
   "source": []
  },
  {
   "cell_type": "code",
   "execution_count": null,
   "id": "caa66ec1-ff24-44c6-bba1-8f00f847dcb9",
   "metadata": {},
   "outputs": [],
   "source": []
  }
 ],
 "metadata": {
  "kernelspec": {
   "display_name": "Python 3 (ipykernel)",
   "language": "python",
   "name": "python3"
  },
  "language_info": {
   "codemirror_mode": {
    "name": "ipython",
    "version": 3
   },
   "file_extension": ".py",
   "mimetype": "text/x-python",
   "name": "python",
   "nbconvert_exporter": "python",
   "pygments_lexer": "ipython3",
   "version": "3.12.7"
  }
 },
 "nbformat": 4,
 "nbformat_minor": 5
}
