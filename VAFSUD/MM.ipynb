{
 "cells": [
  {
   "cell_type": "code",
   "execution_count": 1,
   "id": "92214b38",
   "metadata": {},
   "outputs": [],
   "source": [
    "import pandas as pd\n",
    "import numpy as np\n",
    "from sklearn.preprocessing import MinMaxScaler\n",
    "from tensorflow.keras.models import Sequential\n",
    "from tensorflow.keras.layers import LSTM, Dense, Dropout, Input\n",
    "from sklearn.metrics import mean_absolute_error, mean_squared_error\n",
    "import dash\n",
    "from dash import dcc, html\n",
    "import plotly.graph_objs as go"
   ]
  },
  {
   "cell_type": "code",
   "execution_count": 2,
   "id": "a1281f24",
   "metadata": {},
   "outputs": [],
   "source": [
    "df = pd.read_csv(r'C:\\Users\\hp\\Desktop\\VAFS-main\\stockDATA\\MM.csv')"
   ]
  },
  {
   "cell_type": "code",
   "execution_count": 3,
   "id": "f5e440fc",
   "metadata": {},
   "outputs": [],
   "source": [
    "df['Date'] = pd.to_datetime(df['Date'])\n",
    "df.sort_values('Date', inplace=True)"
   ]
  },
  {
   "cell_type": "code",
   "execution_count": 4,
   "id": "42e99081",
   "metadata": {},
   "outputs": [],
   "source": [
    "df['MA_10'] = df['Close'].rolling(window=10).mean()\n",
    "df['MA_50'] = df['Close'].rolling(window=50).mean()\n",
    "df['EMA_10'] = df['Close'].ewm(span=10, adjust=False).mean()"
   ]
  },
  {
   "cell_type": "code",
   "execution_count": 5,
   "id": "a91578f6",
   "metadata": {},
   "outputs": [],
   "source": [
    "delta = df['Close'].diff()\n",
    "gain = (delta.where(delta > 0, 0)).rolling(window=14).mean()\n",
    "loss = (-delta.where(delta < 0, 0)).rolling(window=14).mean()\n",
    "rs = gain / loss\n",
    "df['RSI'] = 100 - (100 / (1 + rs))"
   ]
  },
  {
   "cell_type": "code",
   "execution_count": 6,
   "id": "9cabf9c7",
   "metadata": {},
   "outputs": [],
   "source": [
    "df.bfill(inplace=True)"
   ]
  },
  {
   "cell_type": "code",
   "execution_count": 7,
   "id": "f612fd87",
   "metadata": {},
   "outputs": [],
   "source": [
    "features = ['Close', 'MA_10', 'MA_50', 'EMA_10', 'RSI']\n",
    "data = df[features].values\n"
   ]
  },
  {
   "cell_type": "code",
   "execution_count": 8,
   "id": "4a87720d",
   "metadata": {},
   "outputs": [],
   "source": [
    "data = df[['Close']].values"
   ]
  },
  {
   "cell_type": "code",
   "execution_count": 9,
   "id": "4a37bd50",
   "metadata": {},
   "outputs": [],
   "source": [
    "scaler = MinMaxScaler(feature_range=(0, 1))\n",
    "scaled_data = scaler.fit_transform(data)"
   ]
  },
  {
   "cell_type": "code",
   "execution_count": 10,
   "id": "0aa17ab4",
   "metadata": {},
   "outputs": [],
   "source": [
    "def create_sequences(data, seq_length):\n",
    "    x, y = [], []\n",
    "    for i in range(len(data) - seq_length):\n",
    "        x.append(data[i:i + seq_length])\n",
    "        y.append(data[i + seq_length])\n",
    "    return np.array(x), np.array(y)"
   ]
  },
  {
   "cell_type": "code",
   "execution_count": 11,
   "id": "16754aa8",
   "metadata": {},
   "outputs": [],
   "source": [
    "seq_length = 60\n",
    "x, y = create_sequences(scaled_data, seq_length)"
   ]
  },
  {
   "cell_type": "code",
   "execution_count": 12,
   "id": "89333014",
   "metadata": {},
   "outputs": [],
   "source": [
    "train_size = int(len(x) * 0.8)\n",
    "x_train, x_test = x[:train_size], x[train_size:]\n",
    "y_train, y_test = y[:train_size], y[train_size:]"
   ]
  },
  {
   "cell_type": "code",
   "execution_count": 13,
   "id": "40745c1d",
   "metadata": {},
   "outputs": [],
   "source": [
    "model = Sequential([\n",
    "    Input(shape=(x_train.shape[1], x_train.shape[2])),\n",
    "    LSTM(50, return_sequences=True),\n",
    "    Dropout(0.2),\n",
    "    LSTM(50, return_sequences=False),\n",
    "    Dropout(0.2),\n",
    "    Dense(25),\n",
    "    Dense(1)\n",
    "])"
   ]
  },
  {
   "cell_type": "code",
   "execution_count": 14,
   "id": "1af6bb7c",
   "metadata": {},
   "outputs": [],
   "source": [
    "model.compile(optimizer='adam', loss='mean_squared_error')"
   ]
  },
  {
   "cell_type": "code",
   "execution_count": 15,
   "id": "d6266a13",
   "metadata": {},
   "outputs": [
    {
     "name": "stdout",
     "output_type": "stream",
     "text": [
      "Epoch 1/10\n",
      "\u001b[1m4196/4196\u001b[0m \u001b[32m━━━━━━━━━━━━━━━━━━━━\u001b[0m\u001b[37m\u001b[0m \u001b[1m86s\u001b[0m 20ms/step - loss: 0.0054\n",
      "Epoch 2/10\n",
      "\u001b[1m4196/4196\u001b[0m \u001b[32m━━━━━━━━━━━━━━━━━━━━\u001b[0m\u001b[37m\u001b[0m \u001b[1m84s\u001b[0m 20ms/step - loss: 0.0016\n",
      "Epoch 3/10\n",
      "\u001b[1m4196/4196\u001b[0m \u001b[32m━━━━━━━━━━━━━━━━━━━━\u001b[0m\u001b[37m\u001b[0m \u001b[1m83s\u001b[0m 20ms/step - loss: 0.0016\n",
      "Epoch 4/10\n",
      "\u001b[1m4196/4196\u001b[0m \u001b[32m━━━━━━━━━━━━━━━━━━━━\u001b[0m\u001b[37m\u001b[0m \u001b[1m81s\u001b[0m 19ms/step - loss: 0.0015\n",
      "Epoch 5/10\n",
      "\u001b[1m4196/4196\u001b[0m \u001b[32m━━━━━━━━━━━━━━━━━━━━\u001b[0m\u001b[37m\u001b[0m \u001b[1m84s\u001b[0m 20ms/step - loss: 0.0014\n",
      "Epoch 6/10\n",
      "\u001b[1m4196/4196\u001b[0m \u001b[32m━━━━━━━━━━━━━━━━━━━━\u001b[0m\u001b[37m\u001b[0m \u001b[1m84s\u001b[0m 20ms/step - loss: 0.0012\n",
      "Epoch 7/10\n",
      "\u001b[1m4196/4196\u001b[0m \u001b[32m━━━━━━━━━━━━━━━━━━━━\u001b[0m\u001b[37m\u001b[0m \u001b[1m83s\u001b[0m 20ms/step - loss: 0.0011\n",
      "Epoch 8/10\n",
      "\u001b[1m4196/4196\u001b[0m \u001b[32m━━━━━━━━━━━━━━━━━━━━\u001b[0m\u001b[37m\u001b[0m \u001b[1m84s\u001b[0m 20ms/step - loss: 0.0012\n",
      "Epoch 9/10\n",
      "\u001b[1m4196/4196\u001b[0m \u001b[32m━━━━━━━━━━━━━━━━━━━━\u001b[0m\u001b[37m\u001b[0m \u001b[1m84s\u001b[0m 20ms/step - loss: 9.4738e-04\n",
      "Epoch 10/10\n",
      "\u001b[1m4196/4196\u001b[0m \u001b[32m━━━━━━━━━━━━━━━━━━━━\u001b[0m\u001b[37m\u001b[0m \u001b[1m81s\u001b[0m 19ms/step - loss: 0.0011\n"
     ]
    },
    {
     "data": {
      "text/plain": [
       "<keras.src.callbacks.history.History at 0x1b550b093d0>"
      ]
     },
     "execution_count": 15,
     "metadata": {},
     "output_type": "execute_result"
    }
   ],
   "source": [
    "model.fit(x_train, y_train, batch_size=1, epochs=10)"
   ]
  },
  {
   "cell_type": "code",
   "execution_count": 16,
   "id": "1f0dcfd8",
   "metadata": {},
   "outputs": [
    {
     "name": "stdout",
     "output_type": "stream",
     "text": [
      "\u001b[1m33/33\u001b[0m \u001b[32m━━━━━━━━━━━━━━━━━━━━\u001b[0m\u001b[37m\u001b[0m \u001b[1m1s\u001b[0m 23ms/step\n"
     ]
    }
   ],
   "source": [
    "predictions = model.predict(x_test)"
   ]
  },
  {
   "cell_type": "code",
   "execution_count": 17,
   "id": "b3207f4d",
   "metadata": {},
   "outputs": [],
   "source": [
    "# Ensure predictions is a 2D array before concatenation\n",
    "predictions = predictions.reshape(-1, 1)\n",
    "\n",
    "# Concatenate predictions with zeros to match original feature dimensions\n",
    "predictions = scaler.inverse_transform(\n",
    "    np.concatenate((predictions, np.zeros((predictions.shape[0], scaled_data.shape[1] - 1))), axis=1)\n",
    ")[:, 0]\n"
   ]
  },
  {
   "cell_type": "code",
   "execution_count": 18,
   "id": "db060aa0",
   "metadata": {},
   "outputs": [],
   "source": [
    "y_test = scaler.inverse_transform(\n",
    "    np.concatenate((y_test.reshape(-1, 1), np.zeros((y_test.shape[0], scaled_data.shape[1] - 1))), axis=1)\n",
    ")[:, 0]"
   ]
  },
  {
   "cell_type": "code",
   "execution_count": 19,
   "id": "1a20cdf3",
   "metadata": {},
   "outputs": [],
   "source": [
    "mae = mean_absolute_error(y_test, predictions)\n",
    "rmse = np.sqrt(mean_squared_error(y_test, predictions))"
   ]
  },
  {
   "cell_type": "code",
   "execution_count": 20,
   "id": "fa3abdc5",
   "metadata": {},
   "outputs": [
    {
     "name": "stdout",
     "output_type": "stream",
     "text": [
      "Mean Absolute Error: 22.830313339031886\n",
      "Root Mean Squared Error: 36.17021444947213\n"
     ]
    }
   ],
   "source": [
    "print(f\"Mean Absolute Error: {mae}\")\n",
    "print(f\"Root Mean Squared Error: {rmse}\")"
   ]
  },
  {
   "cell_type": "code",
   "execution_count": 21,
   "id": "c673af87",
   "metadata": {},
   "outputs": [],
   "source": [
    "df_test = df.iloc[-len(y_test):].copy()\n",
    "df_test.loc[:,'Predictions'] = predictions"
   ]
  },
  {
   "cell_type": "code",
   "execution_count": 23,
   "id": "61312081",
   "metadata": {},
   "outputs": [
    {
     "data": {
      "text/html": [
       "\n",
       "        <iframe\n",
       "            width=\"100%\"\n",
       "            height=\"650\"\n",
       "            src=\"http://127.0.0.1:8064/\"\n",
       "            frameborder=\"0\"\n",
       "            allowfullscreen\n",
       "            \n",
       "        ></iframe>\n",
       "        "
      ],
      "text/plain": [
       "<IPython.lib.display.IFrame at 0x1b55210e690>"
      ]
     },
     "metadata": {},
     "output_type": "display_data"
    }
   ],
   "source": [
    "app = dash.Dash(__name__)\n",
    "\n",
    "app.layout = html.Div([\n",
    "    html.H1(\"MM Stock Price Visualization and Forecasting\"),\n",
    "    dcc.Graph(\n",
    "        id='historical-data',\n",
    "        figure={\n",
    "            'data': [\n",
    "                go.Scatter(x=df['Date'], y=df['Close'], mode='lines', name='Actual Prices'),\n",
    "                go.Scatter(x=df_test['Date'], y=df_test['Predictions'], mode='lines', name='Predicted Prices')\n",
    "            ],\n",
    "            'layout': go.Layout(\n",
    "                title='MM Stock Prices',\n",
    "                xaxis={'title': 'Date'},\n",
    "                yaxis={'title': 'Price'},\n",
    "                hovermode='closest'\n",
    "            )\n",
    "        }\n",
    "    ),\n",
    "    html.Div([\n",
    "        html.H3(f\"Mean Absolute Error: {mae:.2f}\"),\n",
    "        html.H3(f\"Root Mean Squared Error: {rmse:.2f}\")\n",
    "    ])\n",
    "])\n",
    "\n",
    "if __name__ == '__main__':\n",
    "   app.run(debug=True,port=8064)"
   ]
  },
  {
   "cell_type": "code",
   "execution_count": null,
   "id": "c15f97dc",
   "metadata": {},
   "outputs": [],
   "source": []
  }
 ],
 "metadata": {
  "kernelspec": {
   "display_name": "Python 3 (ipykernel)",
   "language": "python",
   "name": "python3"
  },
  "language_info": {
   "codemirror_mode": {
    "name": "ipython",
    "version": 3
   },
   "file_extension": ".py",
   "mimetype": "text/x-python",
   "name": "python",
   "nbconvert_exporter": "python",
   "pygments_lexer": "ipython3",
   "version": "3.11.5"
  }
 },
 "nbformat": 4,
 "nbformat_minor": 5
}
